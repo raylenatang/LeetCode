{
 "cells": [
  {
   "cell_type": "markdown",
   "metadata": {},
   "source": [
    "# 1165.Single-Row Keyboard"
   ]
  },
  {
   "cell_type": "markdown",
   "metadata": {},
   "source": [
    "There is a special keyboard with all keys in a single row.\n",
    "\n",
    "Given a string keyboard of length 26 indicating the layout of the keyboard (indexed from 0 to 25), initially your finger is at index 0. To type a character, you have to move your finger to the index of the desired character. The time taken to move your finger from index i to index j is |i - j|.\n",
    "\n",
    "You want to type a string word. Write a function to calculate how much time it takes to type it with one finger.\n",
    "\n",
    " \n",
    "\n",
    "Example 1:\n",
    "Input: keyboard = \"abcdefghijklmnopqrstuvwxyz\", word = \"cba\"\n",
    "Output: 4\n",
    "Explanation: The index moves from 0 to 2 to write 'c' then to 1 to write 'b' then to 0 again to write 'a'.\n",
    "Total time = 2 + 1 + 1 = 4. \n",
    "\n",
    "Example 2:\n",
    "Input: keyboard = \"pqrstuvwxyzabcdefghijklmno\", word = \"leetcode\"\n",
    "Output: 73\n",
    " \n",
    "Constraints:\n",
    "keyboard.length == 26 \n",
    "keyboard contains each English lowercase letter exactly once in some order.\n",
    "1 <= word.length <= 10^4\n",
    "word[i] is an English lowercase letter."
   ]
  },
  {
   "cell_type": "code",
   "execution_count": 12,
   "metadata": {},
   "outputs": [
    {
     "name": "stdout",
     "output_type": "stream",
     "text": [
      "[22]\n",
      "[22, 7]\n",
      "[22, 7, 0]\n",
      "[22, 7, 0, 11]\n",
      "[22, 7, 0, 11, 9]\n",
      "[22, 7, 0, 11, 9, 12]\n",
      "[22, 7, 0, 11, 9, 12, 11]\n",
      "[22, 7, 0, 11, 9, 12, 11, 1]\n"
     ]
    },
    {
     "data": {
      "text/plain": [
       "73"
      ]
     },
     "execution_count": 12,
     "metadata": {},
     "output_type": "execute_result"
    }
   ],
   "source": [
    "def CalTime(inputStr,keyOrder):\n",
    "    loc=[]\n",
    "    time=[]\n",
    "    loc.append(0)\n",
    "    a=0\n",
    "    totalTime=0\n",
    "    for i in inputStr:\n",
    "        a=a+1\n",
    "        for j in keyOrder:\n",
    "            if i==j:\n",
    "                loc.append(keyOrder.find(j))\n",
    "                time.append(abs(loc[a]-loc[a-1]))\n",
    "                print(time)\n",
    "    for t in time:\n",
    "        totalTime=totalTime+t\n",
    "    return totalTime\n",
    "\n",
    "CalTime('leetcode','pqrstuvwxyzabcdefghijklmno')"
   ]
  }
 ],
 "metadata": {
  "kernelspec": {
   "display_name": "Python 3",
   "language": "python",
   "name": "python3"
  },
  "language_info": {
   "codemirror_mode": {
    "name": "ipython",
    "version": 3
   },
   "file_extension": ".py",
   "mimetype": "text/x-python",
   "name": "python",
   "nbconvert_exporter": "python",
   "pygments_lexer": "ipython3",
   "version": "3.5.3"
  }
 },
 "nbformat": 4,
 "nbformat_minor": 2
}
