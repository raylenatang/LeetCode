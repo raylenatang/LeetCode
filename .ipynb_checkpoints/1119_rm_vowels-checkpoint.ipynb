{
 "cells": [
  {
   "cell_type": "markdown",
   "metadata": {},
   "source": [
    "# 1119.Remove Vowels from a String"
   ]
  },
  {
   "cell_type": "markdown",
   "metadata": {},
   "source": [
    "Given a string S, remove the vowels 'a', 'e', 'i', 'o', and 'u' from it, and return the new string.\n",
    "\n",
    "Example 1:\n",
    "Input: \"leetcodeisacommunityforcoders\"\n",
    "Output: \"ltcdscmmntyfrcdrs\"\n",
    "\n",
    "Example 2:\n",
    "Input: \"aeiou\"\n",
    "Output: \"\"\n",
    " \n",
    "\n",
    "Note:\n",
    "S consists of lowercase English letters only.\n",
    "1 <= S.length <= 1000"
   ]
  },
  {
   "cell_type": "code",
   "execution_count": 40,
   "metadata": {},
   "outputs": [
    {
     "data": {
      "text/plain": [
       "'wwwllp'"
      ]
     },
     "execution_count": 40,
     "metadata": {},
     "output_type": "execute_result"
    }
   ],
   "source": [
    "def rmVowels(inputStr):\n",
    "    for i in inputStr:\n",
    "        m=inputStr.find(i)\n",
    "        if i=='a' or i=='e' or i=='i' or i=='o' or i=='u':\n",
    "            \n",
    "            inputStr=inputStr[0:m]+inputStr[m+1:len(inputStr)]\n",
    "    return inputStr\n",
    "\n",
    "rmVowels('aeewwwoollp')          "
   ]
  }
 ],
 "metadata": {
  "kernelspec": {
   "display_name": "Python 3",
   "language": "python",
   "name": "python3"
  },
  "language_info": {
   "codemirror_mode": {
    "name": "ipython",
    "version": 3
   },
   "file_extension": ".py",
   "mimetype": "text/x-python",
   "name": "python",
   "nbconvert_exporter": "python",
   "pygments_lexer": "ipython3",
   "version": "3.5.3"
  }
 },
 "nbformat": 4,
 "nbformat_minor": 2
}
